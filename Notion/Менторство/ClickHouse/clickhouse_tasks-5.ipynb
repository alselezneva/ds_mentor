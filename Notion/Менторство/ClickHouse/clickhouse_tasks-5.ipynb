{
 "cells": [
  {
   "cell_type": "markdown",
   "id": "e4206320-e495-451b-9eae-c99964c3aab3",
   "metadata": {},
   "source": [
    "# Задания на ClickHouse   "
   ]
  },
  {
   "cell_type": "markdown",
   "id": "3f4710b2-1cb2-4935-8c04-3477ad70482f",
   "metadata": {},
   "source": [
    " "
   ]
  },
  {
   "cell_type": "markdown",
   "id": "99145202-4efd-4838-b771-94dafb8d911d",
   "metadata": {},
   "source": [
    "## Идем в песочницу \n",
    "https://fiddle.clickhouse.com"
   ]
  },
  {
   "cell_type": "markdown",
   "id": "7623215d-afeb-4cc0-a0e0-0156c44ccaf7",
   "metadata": {},
   "source": [
    " "
   ]
  },
  {
   "cell_type": "markdown",
   "id": "85600a66-972a-4303-b90a-0ad5650ae149",
   "metadata": {},
   "source": [
    "## Создаем таблицу `employee_data`\n",
    "Ссылка на документацию: https://clickhouse.com/docs/ru/sql-reference/statements/create/table"
   ]
  },
  {
   "cell_type": "markdown",
   "id": "e5dcc6e6-bfc2-47f7-9b38-4bff2aa67fff",
   "metadata": {},
   "source": [
    "```sql\n",
    "CREATE TABLE employee_data (\n",
    "    Age Int32,\n",
    "    Salary Int32,\n",
    "    Experience Int32,\n",
    "    City String,\n",
    "    Gender String,\n",
    "    Profession String,\n",
    "    Industry String,\n",
    "    Satisfaction_Level Float32,\n",
    "    Project_Count Int32,\n",
    "    Bonuses Float32,\n",
    "    Start_Date Date\n",
    ") ENGINE = MergeTree()\n",
    "ORDER BY Age;\n",
    "```"
   ]
  },
  {
   "cell_type": "markdown",
   "id": "af22f0c0-e2bc-406c-bf6d-95866b783b52",
   "metadata": {},
   "source": [
    " "
   ]
  },
  {
   "cell_type": "markdown",
   "id": "7a0afaa0-d5b6-4430-a65d-3e320c8f86db",
   "metadata": {},
   "source": [
    "## Заполняем таблицу данными \n",
    "Ссылка на документацию: https://clickhouse.com/docs/ru/sql-reference/statements/insert-into"
   ]
  },
  {
   "cell_type": "markdown",
   "id": "ccdb2f9f-fd8a-4f6d-9009-779196dbad34",
   "metadata": {},
   "source": [
    "```sql\n",
    "INSERT INTO employee_data (\n",
    "    Age, \n",
    "    Salary, \n",
    "    Experience, \n",
    "    City, \n",
    "    Gender, \n",
    "    Profession, \n",
    "    Industry, \n",
    "    Satisfaction_Level, \n",
    "    Project_Count, \n",
    "    Bonuses, \n",
    "    Start_Date\n",
    ") \n",
    "VALUES\n",
    "(35, 70000, 10, 'Moscow', 'M', 'Engineer', 'Energy', 8.2, 12, 120000, '2020-01-11'),\n",
    "(45, NULL, 15, 'SPb', 'F', 'Manager', 'Finance', 6.8, NULL, 150000, '2020-02-03'),\n",
    "(29, 500000, 7, 'Novosibirsk', 'M', 'Developer', 'Technology', 9.0, 22, NULL, '2020-03-21'),\n",
    "(NULL, 80000, NULL, 'Yekaterinburg', 'F', 'Analyst', 'Technology', 7.5, 14, 130000, '2020-04-05'),\n",
    "(40, 850000, 14, 'Kazan', 'M', 'Engineer', 'Natural Resources', NULL, 20, 675000, '2020-05-04'),\n",
    "(33, NULL, 11, 'Omsk', 'F', 'Senior Specialist', 'Natural Resources', 7.0, 17, 125000, NULL),\n",
    "(28, 60000, NULL, 'Samara', 'M', 'Technician', 'Energy', 8.9, 23, NULL, '2020-07-01'),\n",
    "(36, 780000, 13, 'Krasnoyarsk', 'F', 'Manager', 'Technology', 6.5, NULL, 130000, '2020-08-01'),\n",
    "(NULL, 92000, 16, 'Volgograd', 'M', 'Analyst', 'AI', NULL, 15, 140000, '2020-09-06'),\n",
    "(31, 670000, 9, NULL, 'F', 'Developer', 'Finance', 8.3, 21, 120000, '2019-10-07'),\n",
    "(35, NULL, NULL, 'Moscow', 'M', 'Engineer', 'Energy', 8.2, NULL, 120000, NULL),\n",
    "(19, 67787, 9, 'Saratov', 'M', 'Manager', 'Finance', NULL, 21, 120150, '2021-16-01'),\n",
    "(30, 95000, 14, 'Kazan', 'M', 'Engineer', 'Natural Resources', 8.1, 20, 145000, '2020-05-01'),\n",
    "(34, 40000, 6, 'Moscow', 'F', 'Analyst', 'Finance', 8.2, 12, 120000, '2020-01-08'),\n",
    "(15, NULL, 15, 'SPb', 'F', 'Manager', 'Finance', 6.8, NULL, 150000, '2018-02-01'),\n",
    "(79, 520000, 7, 'Novosibirsk', 'F', 'Developer', 'Finance', 9.0, 22, NULL, '2016-03-21'),\n",
    "(NULL,60000, NULL, 'Yekaterinburg', 'F', 'Analyst', 'AI', 7.5, 14, 130000, '2020-04-23'),\n",
    "(20, 351000, 14, 'Kazan', 'F', 'Engineer', 'Natural Resources', NULL, 20, 675000, '2019-05-06'),\n",
    "(53, NULL, 11, 'Omsk', 'F', 'Senior Specialist', 'Natural Resources', 7.0, 17, 125000, NULL),\n",
    "(48, 20000, NULL, 'Samara', 'M', 'Technician', 'AI', 8.9, 23, NULL, '2021-07-08'),\n",
    "(36, 80000, 13, 'Krasnoyarsk', 'M', 'Manager', 'Technology', 6.5, NULL, 130000, '2019-08-11'),\n",
    "(NULL, 12000, 16, 'Volgograd', 'M', 'Analyst', 'AI', NULL, 15, 140000, '2017-09-19'),\n",
    "(21, 67000, 9, NULL, 'F', 'Developer', 'Finance', 8.3, 21, 120000, '2021-10-16'),\n",
    "(65, NULL, NULL, 'Moscow', 'M', 'Engineer', 'Energy', 8.2, NULL, 120000, NULL),\n",
    "(39, 60700, 9, 'Saratov', 'M', 'Manager', 'Finance', NULL, 21, 120150, '2022-10-13'),\n",
    "(36, 90000, 14, 'Kazan', 'M', 'Analyst', 'AI', 8.1, 20, 145000, '2010-05-11');\n",
    "\n",
    "```"
   ]
  },
  {
   "cell_type": "markdown",
   "id": "f42b1207-b3f9-409f-bda4-6ee1911d2df4",
   "metadata": {},
   "source": [
    " "
   ]
  },
  {
   "cell_type": "markdown",
   "id": "08c08ab1-99a7-4fe8-8f5c-fa663d122d2f",
   "metadata": {},
   "source": [
    "## Проверяем, что все корректно "
   ]
  },
  {
   "cell_type": "markdown",
   "id": "8090162c-5775-4524-8a3f-658eb6714d63",
   "metadata": {},
   "source": [
    "```sql\n",
    "select * \n",
    "from employee_data\n",
    "```"
   ]
  },
  {
   "cell_type": "markdown",
   "id": "a288e92d-63ed-4e1e-85e6-8508fe031415",
   "metadata": {},
   "source": [
    " "
   ]
  },
  {
   "cell_type": "markdown",
   "id": "e6e05a55-c252-4fb4-a3a7-a932afc2a59e",
   "metadata": {},
   "source": [
    "## Задание (работа с датой) \n",
    "Ссылка на документацию: https://clickhouse.com/docs/en/sql-reference/functions/date-time-functions"
   ]
  },
  {
   "cell_type": "markdown",
   "id": "b237dba5-5598-489e-a608-51c1b102d082",
   "metadata": {},
   "source": [
    "### Задание \n",
    "Извлечение года, месяца и дня из даты"
   ]
  },
  {
   "cell_type": "markdown",
   "id": "f9b4f863-cfde-4825-97e9-ed143b6f6cc6",
   "metadata": {},
   "source": [
    "```sql\n",
    "SELECT ?\n",
    "FROM employee_data;\n",
    "```"
   ]
  },
  {
   "cell_type": "markdown",
   "id": "24b2079e-394a-49a3-9067-8ed8d3620b71",
   "metadata": {},
   "source": [
    "### Задание \n",
    "Форматироваит даты в определённый строковый формат, например `YYYY_MM_DD`, используйте функцию `formatDateTime`"
   ]
  },
  {
   "cell_type": "markdown",
   "id": "c63c6001-3743-41bf-907b-5b3c6bb23198",
   "metadata": {},
   "source": [
    "```sql\n",
    "SELECT ?\n",
    "FROM employee_data;\n",
    "```"
   ]
  },
  {
   "cell_type": "markdown",
   "id": "63e2f1ef-94c2-4b92-be8b-b5a0166954f0",
   "metadata": {},
   "source": [
    "### Задание \n",
    "Вычислить разницу в днях между `Start_Date` и текущей датой, используйте функцию `dateDiff`:"
   ]
  },
  {
   "cell_type": "markdown",
   "id": "8b013f61-20db-4faa-87c8-d00cb3f6fe77",
   "metadata": {},
   "source": [
    "```sql\n",
    "SELECT ?\n",
    "FROM employee_data;\n",
    "```"
   ]
  },
  {
   "cell_type": "markdown",
   "id": "34a3cd80-ca47-4477-865b-4029b638624c",
   "metadata": {},
   "source": [
    "### Задание \n",
    "Получить начало месяца и года для каждой даты, используйте функции `toStartOfMonth()` и `toStartOfYear()`"
   ]
  },
  {
   "cell_type": "markdown",
   "id": "8a0afc1f-9d0f-466c-879b-8c76e890342b",
   "metadata": {},
   "source": [
    "```sql\n",
    "SELECT ?\n",
    "FROM employee_data;\n",
    "```"
   ]
  },
  {
   "cell_type": "markdown",
   "id": "fd4f79f8-471e-40a3-b453-1bcc9a56a281",
   "metadata": {},
   "source": [
    " "
   ]
  },
  {
   "cell_type": "markdown",
   "id": "32b4160d-afcf-430a-94e6-4d9af3ebdc5e",
   "metadata": {},
   "source": [
    "## Задание (комбинаторные функции) \n",
    "Ссылка на документацию: https://clickhouse.com/docs/ru/sql-reference/aggregate-functions/combinators"
   ]
  },
  {
   "cell_type": "markdown",
   "id": "cb3c3879-193c-40e7-ae86-99dcb00cadad",
   "metadata": {},
   "source": [
    "Определить следующее:\n",
    "1. Среднюю зарплату (`Salary`) для сотрудников с опытом работы больше 10 лет в каждой отрасли.\n",
    "2. Количество сотрудников в каждой отрасли с уровнем удовлетворённости ниже 6.0.\n",
    "3. Средний бонус (`Bonuses`) для сотрудников в каждой отрасли, где уровень удовлетворённости больше среднего уровня удовлетворённости по всем отраслям.\n",
    "4. Найти максимальный и минимальный возраст сотрудников для каждой профессии в каждой отрасли, учитывая только сотрудников, у которых опыт больше 5 лет и зарплата не менее 50000.\n"
   ]
  },
  {
   "cell_type": "markdown",
   "id": "9f5b028e-fe96-4a61-8aed-c20dd2e9f3d5",
   "metadata": {},
   "source": [
    "```sql\n",
    "SELECT ?\n",
    "FROM employee_data\n",
    "GROUP BY Industry, Profession;\n",
    "```"
   ]
  },
  {
   "cell_type": "markdown",
   "id": "44473303-d28b-4cf2-abd2-70e9ab59deee",
   "metadata": {},
   "source": [
    " "
   ]
  },
  {
   "cell_type": "markdown",
   "id": "ed8d5433-7dd6-411a-8b4f-472a86ad2b80",
   "metadata": {},
   "source": [
    "## Задание (массивы) \n",
    "Ссылка на документацию: https://clickhouse.com/docs/en/sql-reference/functions/array-functions"
   ]
  },
  {
   "cell_type": "markdown",
   "id": "dcb73c39-6ad9-4fc3-8ab4-53735d7b5b42",
   "metadata": {},
   "source": [
    "### Задание\n",
    "Составьте **один SQL-запрос**, в котором\n",
    "1. Для каждой отрасли найдите список уникальных профессий, которыми заняты сотрудники этой отрасли, без учёта пола (подсказка: `groupUniqArray`)\n",
    "2. Составьте список уникальных профессий, которыми заняты только женщины в каждой отрасли (подсказка: `groupUniqArrayIf`)\n",
    "3. Определите количество уникальных профессий среди женщин в каждой отрасли, то есть посчитайте уникальные профессии из списка профессий, где работают женщины (п2) (подсказка: `groupUniq`)\n"
   ]
  },
  {
   "cell_type": "markdown",
   "id": "bfef52e2-e9f3-4768-958d-674f6ad87828",
   "metadata": {},
   "source": [
    "```sql\n",
    "SELECT ?\n",
    "FROM employee_data\n",
    "GROUP BY Industry;\n",
    "```"
   ]
  },
  {
   "cell_type": "markdown",
   "id": "4bc1eee2-2c12-4056-ba83-a57f11771029",
   "metadata": {},
   "source": [
    " "
   ]
  },
  {
   "cell_type": "markdown",
   "id": "7b3aea8c-4c2a-4b5e-a521-b756e7cbbc58",
   "metadata": {},
   "source": [
    "### Задание\n",
    "Составьте **один SQL-запрос**, в котором\n",
    "1. Соберите массив зарплат для каждой отрасли, включив в него только зарплаты выше 100,000. Отфильтрованный массив отсортируйте в порядке возрастания, чтобы зарплаты располагались от меньших к большим (подсказка: `groupArray` -> `arrayFilter` -> `arraySort`)\n",
    "2. Создайте альтернативный массив зарплат для каждой отрасли, также включающий только значения выше 100,000, но используя фильтрацию в самой функции `groupArrayIf`. Отсортируйте массив по возрастанию. (подсказка: `groupArrayIf` -> `arraySort`)\n"
   ]
  },
  {
   "cell_type": "markdown",
   "id": "fecac202-7927-45db-baea-d0e28ac2514b",
   "metadata": {},
   "source": [
    "```sql\n",
    "SELECT ?\n",
    "FROM employee_data\n",
    "GROUP BY Industry; \n",
    "```"
   ]
  },
  {
   "cell_type": "markdown",
   "id": "0ae3bd8e-2c00-446e-8dd1-018e69a555b3",
   "metadata": {},
   "source": [
    " "
   ]
  },
  {
   "cell_type": "markdown",
   "id": "c053f799-5478-4298-afba-8f11cfdf6447",
   "metadata": {},
   "source": [
    "### Задание\n",
    "Составьте **один SQL-запрос**, в котором\n",
    "1. Соберите массив зарплат сотрудников в каждой отрасли, отсортировав его по убыванию (подсказка: `arraySort`)\n",
    "2. Извлеките топ-3 зарплаты для каждой отрасли. Используйте `arraySlice`, чтобы выбрать только первые три значения в отсортированном массиве (подсказка: `arraySlice`)\n"
   ]
  },
  {
   "cell_type": "markdown",
   "id": "4d6b24b0-fc51-4eb8-ae84-42a030c9fac8",
   "metadata": {},
   "source": [
    "```sql\n",
    "SELECT ?\n",
    "FROM employee_data\n",
    "GROUP BY Industry;\n",
    "```"
   ]
  },
  {
   "cell_type": "markdown",
   "id": "0e5d500e-8f3c-4313-a467-f77c8f583774",
   "metadata": {},
   "source": [
    " "
   ]
  },
  {
   "cell_type": "markdown",
   "id": "dc9f0679-4327-4c5b-bf8a-d6640fc3ed87",
   "metadata": {},
   "source": [
    "## Задание (lambda функция) \n",
    "Ссылка на докуме\n",
    "нтацию: https://clickhouse.com/docs/ru/sql-reference/functions/tuple-map-functions"
   ]
  },
  {
   "cell_type": "markdown",
   "id": "c49cc936-54e1-4efd-a162-1b9a581e8603",
   "metadata": {},
   "source": [
    "Составьте **один SQL-запрос**, в котором\n",
    "1. Составьте массив зарплат для каждой отрасли, включив только те зарплаты, которые превышают 50,000. Для анализа возможного повышения зарплат увеличьте каждое значение на 10% и округлите результат до одного знака после запятой.\n",
    "2. Составьте массив опыта сотрудников для каждой отрасли, включив только сотрудников с опытом работы более 5 лет. В результате для каждого сотрудника добавьте к их текущему опыту 2 года"
   ]
  },
  {
   "cell_type": "markdown",
   "id": "6188843f-8fab-42db-bb11-2028357fc6a4",
   "metadata": {},
   "source": [
    "```sql\n",
    "SELECT ?\n",
    "FROM employee_data\n",
    "GROUP BY Industry;\n",
    "```"
   ]
  },
  {
   "cell_type": "markdown",
   "id": "d2657bee-a225-4eef-a40f-22bff52ba481",
   "metadata": {},
   "source": [
    " "
   ]
  },
  {
   "cell_type": "markdown",
   "id": "9b859bbf-9124-4f92-b2da-3400952127ab",
   "metadata": {},
   "source": [
    "## Задание (CTE - common table expression) \n",
    "Ссылка на документацию: https://clickhouse.com/docs/en/sql-reference/statements/select/with"
   ]
  },
  {
   "cell_type": "markdown",
   "id": "e7400d0c-f952-43c8-ab9c-4d1b6eec898b",
   "metadata": {},
   "source": [
    "Составьте **один SQL-запрос**, в котором\n",
    "1. **CTE**:\n",
    "- Сгруппируйте данные по `City` и `Gender`.\n",
    "- Рассчитайте среднюю зарплату (`AVG(Salary)`) и общее количество сотрудников (`COUNT(*)`) для каждой комбинации города и пола.\n",
    "\n",
    "2. **Основной запрос**:\n",
    "- Используйте подзапрос, чтобы объединить его результаты с таблицей `employee_data`, сопоставив сотрудников с их городом и полом.\n",
    "- Отфильтруйте данные так, чтобы вывести только тех сотрудников, у которых зарплата выше средней зарплаты по их городу и полу.\n"
   ]
  },
  {
   "cell_type": "markdown",
   "id": "c4e3cd91-d6d6-4874-bbb5-d2bf278d44a1",
   "metadata": {},
   "source": [
    "```sql\n",
    "with subquery as (\n",
    "    ?\n",
    ")\n",
    "SELECT ?\n",
    "FROM employee_data AS e\n",
    "JOIN subquery ON ?\n",
    "WHERE ?\n",
    "```"
   ]
  },
  {
   "cell_type": "markdown",
   "id": "2ea7e2f4-2a83-440e-a4ae-7a17d0b38854",
   "metadata": {},
   "source": [
    " "
   ]
  },
  {
   "cell_type": "markdown",
   "id": "1f3764b9-6c6d-4bd7-af5e-3408601164e5",
   "metadata": {},
   "source": [
    "## Задание (оконные функции) \n",
    "Ссылка на документацию: https://clickhouse.com/docs/en/sql-reference/window-functions"
   ]
  },
  {
   "cell_type": "markdown",
   "id": "eaa855cd-9676-44cf-b30f-0f34b28e730f",
   "metadata": {},
   "source": [
    "Составьте **один SQL-запрос**, в котором\n",
    "1. Для каждой профессии пронумеруйте сотрудников, начиная с самого высокого уровня зарплаты, используя функцию `ROW_NUMBER()`.\n",
    "2. Используя функцию `RANK()`, создайте ранжирование сотрудников в каждой отрасли на основе их зарплаты (начиная с самой высокой).\n",
    "3. Рассчитайте скользящее среднее уровня удовлетворённости для текущей строки и двух предыдущих сотрудников с такой же профессией, упорядоченных по зарплате\n",
    "4. Рассчитайте cумму зарплат всех сотрудников в рамках города\n",
    "\n",
    "Условия:\n",
    "\n",
    "- Отобразите все столбцы из таблицы `employee_data` вместе с добавленными оконными функциями.\n",
    "- Отсортируйте итоговую таблицу по профессии и уровню зарплаты (в порядке убывания)."
   ]
  },
  {
   "cell_type": "markdown",
   "id": "fec28f62-1e65-40a3-a767-f95f65b03f6e",
   "metadata": {},
   "source": [
    "```sql\n",
    "SELECT ?\n",
    "FROM employee_data\n",
    "ORDER BY ?\n",
    "```"
   ]
  },
  {
   "cell_type": "markdown",
   "id": "746c3bb7-1fd1-43aa-b50c-e5c0a9292169",
   "metadata": {},
   "source": [
    " "
   ]
  },
  {
   "cell_type": "markdown",
   "id": "812f8597-22ca-4902-b833-86f339786abc",
   "metadata": {},
   "source": [
    "## Задание (limit by) \n",
    "Ссылка на документацию: https://clickhouse.com/docs/en/sql-reference/statements/select/limit-by"
   ]
  },
  {
   "cell_type": "markdown",
   "id": "8d199d21-759c-407b-bac1-f79038295635",
   "metadata": {},
   "source": [
    "Составьте **один SQL-запрос**, который извлекает уникальные записи сотрудников из таблицы employee_data, ограничивая результаты следующим образом:\n",
    "\n",
    "1.\tОтобразите только одну запись для каждой уникальной комбинации профессии (Profession) и города (City).\n",
    "2.\tОтсортируйте данные так, чтобы для каждой профессии результаты отображались в алфавитном порядке профессий, а в рамках каждой профессии записи городов сортировались по убыванию.\n",
    "3.\tИспользуйте оператор LIMIT BY для ограничения количества записей до одной на каждую комбинацию профессии и города.\n"
   ]
  },
  {
   "cell_type": "markdown",
   "id": "b28273d0-7a25-45b3-ab27-bb24ca154b4e",
   "metadata": {},
   "source": [
    "```sql\n",
    "SELECT *\n",
    "FROM employee_data\n",
    "ORDER BY ?\n",
    "LIMIT ?\n",
    "```"
   ]
  },
  {
   "cell_type": "markdown",
   "id": "0affbdfc-0b18-4736-8810-b89a30aa7a6b",
   "metadata": {},
   "source": [
    "## Задание (any при группировке) \n",
    "Ссылка на документацию: https://clickhouse.com/docs/en/sql-reference/aggregate-functions/reference/any"
   ]
  },
  {
   "cell_type": "markdown",
   "id": "1dc27ecf-7f2b-494f-b68e-12822918e0be",
   "metadata": {},
   "source": [
    "Сгруппируйте записи по профессии и городу и используйте агрегатную функцию `any` для выбора произвольного значения из каждой группы для следующих столбцов: `Salary`, `Experience`, `Satisfaction_Level`"
   ]
  },
  {
   "cell_type": "markdown",
   "id": "4a3a3eca-3ac2-495a-9423-4aad3bb8d055",
   "metadata": {},
   "source": [
    "```sql\n",
    "SELECT ?\n",
    "FROM employee_data\n",
    "GROUP BY Profession, City;\n",
    "```"
   ]
  },
  {
   "cell_type": "markdown",
   "id": "727bea2a-6120-4c98-a56a-283ba69f532e",
   "metadata": {},
   "source": [
    "**А зачем оно надо?**"
   ]
  },
  {
   "cell_type": "markdown",
   "id": "2588c13f-65dc-4f13-a126-97c0f98f6449",
   "metadata": {},
   "source": [
    "Допустим, у нас есть вот таблица с отзывами: \n",
    "\n",
    "| FeedbackId | SupplierId | UserId | FeedbackText                                | FeedbackValue | FeedbackLikes | UpdatedDateTime |\n",
    "|------------|------------|--------|-------------------------------------|-------|-------------|-------------|\n",
    "| 1          | 101        | 1001   | \"Great service, highly recommend!\" | 5     | 0          |01.01.2025|\n",
    "| 1          | 101        | 1001   | \"Great service, highly recommend!\" | 5     | 5          |02.01.2025|\n",
    "| 1          | 101        | 1001   | \"Great service, highly recommend!\" | 5     | 25          |03.01.2025|\n",
    "| 2          | 102        | 1002   | \"Delivery was late, but quality is good.\" | 4     | 1          |03.01.2025|\n",
    "| 2          | 102        | 1002   | \"Delivery was late, but quality is good.\" | 4     | 4          |04.01.2025|\n",
    "| 3          | 101        | 1003   | \"Not satisfied with the product.\"  | 2     | 2           |13.01.2025|\n",
    "| 3          | 101        | 1003   | \"Not satisfied with the product.\"  | 2     | 3           |14.01.2025|\n",
    "| 4          | 103        | 1004   | \"Excellent customer support.\"      | 5     | 50          |20.01.2025|\n",
    "| 4          | 103        | 1004   | \"Excellent customer support.\"      | 5     | 130          |21.01.2025|\n",
    "| 5          | 102        | 1005   | \"Product was damaged during shipping.\" | 1 | 2           |16.01.2025|\n",
    "\n",
    "---\n",
    "\n",
    "**Этот запрос не работает** \n",
    "\n",
    "Он вызывает ошибку, потому что в `SELECT` мы вызываем колонки, которые **не включёны** в `GROUP BY` (`SupplierId`, `UserId`, `FeedbackText`, `FeedbackValue`). \n",
    "\n",
    "```sql\n",
    "select \n",
    "    FeedbackId, \n",
    "    SupplierId, \n",
    "    UserId, \n",
    "    FeedbackText, \n",
    "    FeedbackValue, \n",
    "    max(FeedbackLikes) as FeedbackLikes\n",
    "from table\n",
    "group by FeedbackId\n",
    "```\n",
    "\n",
    "\n",
    "**Первый вариант решения** - медленно \n",
    "```sql\n",
    "select \n",
    "    FeedbackId, \n",
    "    SupplierId, \n",
    "    UserId, \n",
    "    FeedbackText, \n",
    "    FeedbackValue, \n",
    "    max(FeedbackLikes) as FeedbackLikes\n",
    "from table\n",
    "group by FeedbackId, SupplierId, UserId, FeedbackText, FeedbackValue\n",
    "```\n",
    "\n",
    "**Второй вариант решения** - получше \n",
    "```sql\n",
    "select \n",
    "    FeedbackId, \n",
    "    max(SupplierId) as SupplierId, \n",
    "    max(UserId) as UserId, \n",
    "    max(FeedbackText) as FeedbackText, \n",
    "    max(FeedbackValue) as FeedbackValue, \n",
    "    max(FeedbackLikes) as FeedbackLikes\n",
    "from table\n",
    "group by FeedbackId\n",
    "```\n",
    "\n",
    "**ClickHouse решение** - самый оптимальный\n",
    "```sql\n",
    "select \n",
    "    FeedbackId, \n",
    "    any(SupplierId) as SupplierId, \n",
    "    any(UserId) as UserId, \n",
    "    any(FeedbackText) as FeedbackText, \n",
    "    any(FeedbackValue) as FeedbackValue, \n",
    "    any(FeedbackLikes) as FeedbackLikes\n",
    "from table\n",
    "group by FeedbackId\n",
    "```"
   ]
  },
  {
   "cell_type": "markdown",
   "id": "30acebb9-dc9a-4b15-856f-3343a1aab30b",
   "metadata": {},
   "source": [
    "## Задание (работа со строками)\n",
    "Ссылка на документацию: https://clickhouse.com/docs/en/sql-reference/functions/string-search-functions"
   ]
  },
  {
   "cell_type": "markdown",
   "id": "77de3ebf-1e45-480a-ab6b-b993bbf9a519",
   "metadata": {},
   "source": [
    "Составьте **один SQL-запрос**, в котором\n",
    "1. Создайте сокращённое обозначение для каждой записи, используя инициалы города (`City`) и профессии (`Profession`). Инициалы должны быть в формате \"C.P.\", где первая буква города и первая буква профессии указаны в верхнем регистре, разделённые точками. Например, для города \"Moscow\" и профессии \"Engineer\" должно получиться \"M.E.\".\n",
    "2. Отфильтруйте записи по названию города. Выберите только те записи, где город начинается с буквы \"S\" или \"K\". Используйте регулярное выражение для поиска городов с нужной начальной буквой."
   ]
  },
  {
   "cell_type": "markdown",
   "id": "f0b2b991-2822-4e1e-b166-bdb3b61ed20b",
   "metadata": {},
   "source": [
    "```sql\n",
    "\n",
    "SELECT ?\n",
    "FROM employee_data\n",
    "WHERE ?\n",
    "```"
   ]
  },
  {
   "cell_type": "markdown",
   "id": "0a337b08-7b27-44d8-83ec-764a007d6a89",
   "metadata": {},
   "source": [
    "## Задание (arrayJoin) \n",
    "Ссылка на документацию: https://clickhouse.com/docs/en/sql-reference/functions/array-join"
   ]
  },
  {
   "cell_type": "markdown",
   "id": "2675bd0c-409d-419c-9362-852884a178ec",
   "metadata": {},
   "source": [
    "\n",
    "1. **Внутри CTE**:\n",
    "   - Сгруппируйте данные по полю `Gender`, чтобы агрегировать информацию по полу сотрудников.\n",
    "   - Посчитайте общую сумму зарплат (`Salary`) для каждого пола и назовите этот столбец `sum_salary`.\n",
    "   - Создайте массив, содержащий уникальные профессии (`Profession`) для каждого пола, используя функцию `groupUniqArray`.\n",
    "2. **Во внешнем запросе**:\n",
    "   - Используйте функцию `arrayJoin` для развертывания массива `arr_profession`, чтобы каждая профессия отображалась как отдельная строка.\n"
   ]
  },
  {
   "cell_type": "markdown",
   "id": "071e195c-1ff4-4220-82a5-43f87dc07064",
   "metadata": {},
   "source": [
    "```sql\n",
    "with cte as (\n",
    "  ?\n",
    ")\n",
    "SELECT ?\n",
    "FROM cte;\n",
    "```"
   ]
  },
  {
   "cell_type": "markdown",
   "id": "d9b5a49d-7746-4e83-8b4e-4c37c067a39f",
   "metadata": {},
   "source": [
    "## Задание (удаление таблицы) \n",
    "Ссылка на документацию: \n",
    "- https://clickhouse.com/docs/en/deletes\n",
    "- https://clickhouse.com/docs/ru/sql-reference/statements/drop"
   ]
  },
  {
   "cell_type": "markdown",
   "id": "8c2a48f8-b4db-4ae8-937f-8d316317936f",
   "metadata": {},
   "source": [
    "### Задание \n",
    "Удалить всех сотрудников из Москвы\n"
   ]
  },
  {
   "cell_type": "markdown",
   "id": "a8818ee4-ce2e-4b6e-8c5b-73982d9dea1d",
   "metadata": {},
   "source": [
    "```sql\n",
    "DELETE FROM employee_data\n",
    "WHERE City = 'Moscow';\n",
    "```"
   ]
  },
  {
   "cell_type": "markdown",
   "id": "c2552e68-3a13-413f-83be-efaa52aedded",
   "metadata": {},
   "source": [
    "### Задание \n",
    "Очистить таблицу `employee_data`, удалив все записи, но оставив саму таблицу"
   ]
  },
  {
   "cell_type": "markdown",
   "id": "3a99f27e-5459-443c-826d-e1ec159ccd8b",
   "metadata": {},
   "source": [
    "```sql\n",
    "TRUNCATE TABLE employee_data;\n",
    "```"
   ]
  },
  {
   "cell_type": "markdown",
   "id": "6fa1c596-7027-487e-91a5-a9b06dcdf926",
   "metadata": {},
   "source": [
    "### Задание \n",
    "Полностью удалить таблицу `employee_data` вместе со всей её структурой и данными"
   ]
  },
  {
   "cell_type": "markdown",
   "id": "328884a1-d254-4aea-83c0-bff2ff61e7ea",
   "metadata": {},
   "source": [
    "```sql \n",
    "DROP TABLE employee_data;\n",
    "```"
   ]
  },
  {
   "cell_type": "markdown",
   "id": "890ee193-ac64-4c4d-a62f-388fd68cd981",
   "metadata": {},
   "source": [
    "## Задание (engine) \n",
    "Ссылка на документацию: https://clickhouse.com/docs/en/engines/table-engines"
   ]
  },
  {
   "cell_type": "markdown",
   "id": "fcae880e-d220-4a90-920e-236d748aa6ed",
   "metadata": {},
   "source": [
    "Исследуйте различия в обработке данных между таблицами с движками `MergeTree` и `ReplacingMergeTree`, используя их поведение при наличии дубликатов. Выполните следующие шаги:\n",
    "\n",
    "1. **Создайте две таблицы** с одинаковой структурой, но разными типами движков:\n",
    "- Таблицу `employee_data_mt` на базе движка `MergeTree`.\n",
    "- Таблицу `employee_data_rmt` на базе движка `ReplacingMergeTree`, указав в качестве ключа `Start_Date` для замены дубликатов.\n",
    "2. **Заполните таблицы данными**:\n",
    "- Вставьте базовые записи для каждой таблицы, указав значения для `Gender`, `City` и `Start_Date`.\n",
    "- Добавьте дополнительные записи в `employee_data_rmt`, которые имеют дубликаты по `Start_Date`, чтобы протестировать поведение `ReplacingMergeTree`.\n",
    "3. **Проанализируйте различия в хранении данных**:\n",
    "- Выполните запрос, который подсчитает количество записей в каждой таблице\n",
    "- Проанализируйте результат и ответьте на вопросы:\n",
    "   - Почему количество записей в `employee_data_mt` и `employee_data_rmt` отличается?\n",
    "   - Какая таблица хранит уникальные записи по ключу `Start_Date`, а какая сохраняет все вставленные данные, включая дубликаты?\n",
    "4. **Вывод**:\n",
    "- Сделайте вывод о том, как каждый из движков обрабатывает дубликаты.\n",
    "- Определите, в каких случаях будет предпочтительнее использовать `MergeTree` или `ReplacingMergeTree` для таблицы, в зависимости от требований к обновляемости и уникальности данных.\n"
   ]
  },
  {
   "cell_type": "markdown",
   "id": "edffa0a2-6e2e-4ab8-8da8-bbdc84af5f59",
   "metadata": {},
   "source": [
    "```sql\n",
    " CREATE TABLE employee_data_mt (\n",
    "   Gender String,\n",
    "   City String,\n",
    "   Start_Date DateTime\n",
    " )\n",
    " ENGINE = MergeTree()\n",
    " ORDER BY (Gender, City);\n",
    "\n",
    " CREATE TABLE employee_data_rmt (\n",
    "   Gender String,\n",
    "   City String,\n",
    "   Start_Date DateTime\n",
    " )\n",
    " ENGINE = ReplacingMergeTree(Start_Date)\n",
    " ORDER BY (Gender, City);\n",
    "\n",
    "-- Вставка данных в таблицу employee_data_mt\n",
    "INSERT INTO employee_data_mt (Gender, City, Start_Date) VALUES \n",
    "    ('M', 'Moscow', '2023-01-01 08:00:00'),\n",
    "    ('F', 'SPb', '2023-01-01 09:00:00'),\n",
    "    ('M', 'Kazan', '2023-01-01 10:00:00'),\n",
    "    ('F', 'Moscow', '2023-01-01 11:00:00'),\n",
    "    ('M', 'SPb', '2023-01-01 12:00:00');\n",
    "\n",
    "-- Вставка данных в таблицу employee_data_rmt\n",
    "INSERT INTO employee_data_rmt (Gender, City, Start_Date) VALUES \n",
    "    ('M', 'Moscow', '2023-01-01 08:00:00'),\n",
    "    ('F', 'SPb', '2023-01-01 09:00:00'),\n",
    "    ('M', 'Kazan', '2023-01-01 10:00:00'),\n",
    "    ('F', 'Moscow', '2023-01-01 11:00:00'),\n",
    "    ('M', 'SPb', '2023-01-01 12:00:00');\n",
    "\n",
    "\n",
    "-- Добавим дубликаты в таблицу employee_data_mt для тестирования MergeTree\n",
    "INSERT INTO employee_data_rmt (Gender, City, Start_Date) VALUES \n",
    "    ('F', 'Moscow', '2023-01-01 11:00:00'),  \n",
    "    ('M', 'SPb', '2023-01-01 12:00:00'),   \n",
    "    ('M', 'Moscow', '2023-01-01 08:00:00');\n",
    "\n",
    "-- Добавим дубликаты в таблицу employee_data_rmt для тестирования ReplacingMergeTree\n",
    "INSERT INTO employee_data_rmt (Gender, City, Start_Date) VALUES \n",
    "    ('F', 'Moscow', '2023-01-01 11:00:00'),  \n",
    "    ('M', 'SPb', '2023-01-01 12:00:00'),   \n",
    "    ('M', 'Moscow', '2023-01-01 08:00:00'); \n",
    "\n",
    "OPTIMIZE TABLE employee_data_rmt FINAL; \n",
    "\n",
    "SELECT \n",
    "  (SELECT COUNT() FROM employee_data_mt) as cnt_mt,\n",
    "  (SELECT COUNT() FROM employee_data_rmt) as cnt_rmt;\n",
    "```"
   ]
  },
  {
   "cell_type": "markdown",
   "id": "73b186d7-0f69-4995-9db4-d8b87995e8b7",
   "metadata": {},
   "source": [
    " "
   ]
  }
 ],
 "metadata": {
  "kernelspec": {
   "display_name": "Python 3 (ipykernel)",
   "language": "python",
   "name": "python3"
  },
  "language_info": {
   "codemirror_mode": {
    "name": "ipython",
    "version": 3
   },
   "file_extension": ".py",
   "mimetype": "text/x-python",
   "name": "python",
   "nbconvert_exporter": "python",
   "pygments_lexer": "ipython3",
   "version": "3.10.10"
  }
 },
 "nbformat": 4,
 "nbformat_minor": 5
}
